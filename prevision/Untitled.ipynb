{
 "cells": [
  {
   "cell_type": "code",
   "execution_count": 5,
   "metadata": {},
   "outputs": [
    {
     "name": "stdout",
     "output_type": "stream",
     "text": [
      "Using matplotlib backend: Qt5Agg\n"
     ]
    }
   ],
   "source": [
    "import pandas as pd\n",
    "import numpy as np\n",
    "import matplotlib.pyplot as plt\n",
    "%matplotlib"
   ]
  },
  {
   "cell_type": "code",
   "execution_count": 17,
   "metadata": {
    "collapsed": true
   },
   "outputs": [],
   "source": [
    "import time"
   ]
  },
  {
   "cell_type": "code",
   "execution_count": 9,
   "metadata": {
    "collapsed": true
   },
   "outputs": [],
   "source": [
    "fps=29"
   ]
  },
  {
   "cell_type": "code",
   "execution_count": 18,
   "metadata": {
    "collapsed": true
   },
   "outputs": [],
   "source": [
    "def mediaMoblieBlinkRate(df, wind):\n",
    "    list_blink=list(df)\n",
    "    list_blink_tmp=list()\n",
    "    for i in range(wind,len(list_blink)):\n",
    "        list_blink_tmp.append(sum(list_blink[i-wind:i])/wind)\n",
    "    series_blink=pd.Series(list_blink_tmp, index=range(wind,len(list_blink)))\n",
    "    return series_blink\n",
    "\n",
    "def smoth_BR_moving_av(df, wind):\n",
    "    indici=df.index\n",
    "    list_blink=list(df)\n",
    "    list_blink_tmp=list()\n",
    "    for i in range(int(wind/2),len(list_blink)-int(wind/2)):\n",
    "        list_blink_tmp.append(sum(list_blink[i-int(wind/2):i+int(wind/2)])/wind)\n",
    "    series_blink=pd.Series(list_blink_tmp, index=range(indici[0]+int(wind/2),indici[-1]-int(wind/2)))\n",
    "    return series_blink"
   ]
  },
  {
   "cell_type": "code",
   "execution_count": 19,
   "metadata": {},
   "outputs": [],
   "source": [
    "dati=pd.read_csv(\"data_final_Pippo_bugia_verita.csv\", index_col=\"frame\")\n",
    "DF_BLINK=dati\n",
    "#calcolo medie mobili per fps con finestre da 20 sec\n",
    "DF_MOV_BR=mediaMoblieBlinkRate(list(DF_BLINK.blink), 20*fps)\n",
    "#trasformo blink per frame in blink per min\n",
    "DF_MOV_BR=DF_MOV_BR*fps*60\n",
    "SMOOTH_BR=DF_MOV_BR.rolling(window=3*fps,center=False).mean()\n",
    "DF_BLINK=DF_BLINK[DF_BLINK.blink>0]"
   ]
  },
  {
   "cell_type": "code",
   "execution_count": 20,
   "metadata": {},
   "outputs": [],
   "source": [
    "secondi=dati.index/fps\n",
    "my_xticks=list()\n",
    "for i in secondi:\n",
    "    my_xticks.append(time.strftime(\"%M:%S\", time.gmtime(i)))\n"
   ]
  },
  {
   "cell_type": "code",
   "execution_count": 53,
   "metadata": {},
   "outputs": [],
   "source": [
    "per_plot=SMOOTH_BR.loc[2610:2610*2]"
   ]
  },
  {
   "cell_type": "code",
   "execution_count": 64,
   "metadata": {},
   "outputs": [
    {
     "data": {
      "text/plain": [
       "([<matplotlib.axis.XTick at 0x1a4751fd400>,\n",
       "  <matplotlib.axis.XTick at 0x1a4752030f0>,\n",
       "  <matplotlib.axis.XTick at 0x1a47521ca20>,\n",
       "  <matplotlib.axis.XTick at 0x1a4751e1a20>,\n",
       "  <matplotlib.axis.XTick at 0x1a4753d60b8>,\n",
       "  <matplotlib.axis.XTick at 0x1a4753d6710>,\n",
       "  <matplotlib.axis.XTick at 0x1a4753d6da0>,\n",
       "  <matplotlib.axis.XTick at 0x1a47521cef0>,\n",
       "  <matplotlib.axis.XTick at 0x1a4753e6320>,\n",
       "  <matplotlib.axis.XTick at 0x1a4753e6978>,\n",
       "  <matplotlib.axis.XTick at 0x1a4753ed048>,\n",
       "  <matplotlib.axis.XTick at 0x1a4753ed6d8>,\n",
       "  <matplotlib.axis.XTick at 0x1a4753edd68>,\n",
       "  <matplotlib.axis.XTick at 0x1a4753edf98>,\n",
       "  <matplotlib.axis.XTick at 0x1a4753f4668>,\n",
       "  <matplotlib.axis.XTick at 0x1a4753f4cf8>,\n",
       "  <matplotlib.axis.XTick at 0x1a4753fa3c8>,\n",
       "  <matplotlib.axis.XTick at 0x1a4753faa58>],\n",
       " <a list of 18 Text xticklabel objects>)"
      ]
     },
     "execution_count": 64,
     "metadata": {},
     "output_type": "execute_result"
    }
   ],
   "source": [
    "SMOOTH_BR.loc[7830:2610+7830].plot(color=\"r\", label=\"Blink/min\")\n",
    "plt.legend(loc=2, prop={'size': 8})\n",
    "frequency=fps*5\n",
    "plt.xticks(dati.index[7830:2610+7830:frequency], my_xticks[7830:2610+7830:frequency], rotation=45)"
   ]
  },
  {
   "cell_type": "code",
   "execution_count": 42,
   "metadata": {},
   "outputs": [
    {
     "data": {
      "text/plain": [
       "<matplotlib.axes._subplots.AxesSubplot at 0x1a4715795c0>"
      ]
     },
     "execution_count": 42,
     "metadata": {},
     "output_type": "execute_result"
    }
   ],
   "source": [
    "SMOOTH_BR[2010:2310*2].plot(color=\"r\", label=\"Blink/min\")"
   ]
  },
  {
   "cell_type": "code",
   "execution_count": 43,
   "metadata": {},
   "outputs": [
    {
     "data": {
      "text/plain": [
       "<matplotlib.axes._subplots.AxesSubplot at 0x1a470bfc908>"
      ]
     },
     "execution_count": 43,
     "metadata": {},
     "output_type": "execute_result"
    }
   ],
   "source": [
    "to_plot.plot(color=\"r\", label=\"Blink/min\")"
   ]
  }
 ],
 "metadata": {
  "kernelspec": {
   "display_name": "Python 3",
   "language": "python",
   "name": "python3"
  },
  "language_info": {
   "codemirror_mode": {
    "name": "ipython",
    "version": 3
   },
   "file_extension": ".py",
   "mimetype": "text/x-python",
   "name": "python",
   "nbconvert_exporter": "python",
   "pygments_lexer": "ipython3",
   "version": "3.6.3"
  }
 },
 "nbformat": 4,
 "nbformat_minor": 2
}
